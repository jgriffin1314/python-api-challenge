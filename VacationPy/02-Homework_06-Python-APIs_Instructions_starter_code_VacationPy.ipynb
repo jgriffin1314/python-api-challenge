{
 "cells": [
  {
   "cell_type": "markdown",
   "metadata": {},
   "source": [
    "# VacationPy\n",
    "----\n",
    "\n",
    "#### Note\n",
    "* Keep an eye on your API usage. Use https://developers.google.com/maps/reporting/gmp-reporting as reference for how to monitor your usage and billing.\n",
    "\n",
    "* Instructions have been included for each segment. You do not have to follow them exactly, but they are included to help you think through the steps."
   ]
  },
  {
   "cell_type": "code",
   "execution_count": 1,
   "metadata": {},
   "outputs": [],
   "source": [
    "# Dependencies and Setup\n",
    "import matplotlib.pyplot as plt\n",
    "import pandas as pd\n",
    "import numpy as np\n",
    "import json\n",
    "import requests\n",
    "import gmaps\n",
    "import os\n",
    "\n",
    "# Import API key\n",
    "from api_keys import g_key"
   ]
  },
  {
   "cell_type": "markdown",
   "metadata": {},
   "source": [
    "### Store Part I results into DataFrame\n",
    "* Load the csv exported in Part I to a DataFrame"
   ]
  },
  {
   "cell_type": "code",
   "execution_count": 11,
   "metadata": {},
   "outputs": [
    {
     "name": "stdout",
     "output_type": "stream",
     "text": [
      "568\n",
      "568\n"
     ]
    },
    {
     "data": {
      "text/html": [
       "<div>\n",
       "<style scoped>\n",
       "    .dataframe tbody tr th:only-of-type {\n",
       "        vertical-align: middle;\n",
       "    }\n",
       "\n",
       "    .dataframe tbody tr th {\n",
       "        vertical-align: top;\n",
       "    }\n",
       "\n",
       "    .dataframe thead th {\n",
       "        text-align: right;\n",
       "    }\n",
       "</style>\n",
       "<table border=\"1\" class=\"dataframe\">\n",
       "  <thead>\n",
       "    <tr style=\"text-align: right;\">\n",
       "      <th></th>\n",
       "      <th>City</th>\n",
       "      <th>Latitude</th>\n",
       "      <th>Longitude</th>\n",
       "      <th>Max Temp</th>\n",
       "      <th>Humidity</th>\n",
       "      <th>Cloudiness</th>\n",
       "      <th>Wind_Speed</th>\n",
       "      <th>Country</th>\n",
       "    </tr>\n",
       "  </thead>\n",
       "  <tbody>\n",
       "    <tr>\n",
       "      <th>18</th>\n",
       "      <td>Tsarítsani</td>\n",
       "      <td>39.88</td>\n",
       "      <td>22.23</td>\n",
       "      <td>10.00</td>\n",
       "      <td>93</td>\n",
       "      <td>75</td>\n",
       "      <td>1.01</td>\n",
       "      <td>GR</td>\n",
       "    </tr>\n",
       "    <tr>\n",
       "      <th>425</th>\n",
       "      <td>Manama</td>\n",
       "      <td>26.22</td>\n",
       "      <td>50.58</td>\n",
       "      <td>18.00</td>\n",
       "      <td>55</td>\n",
       "      <td>0</td>\n",
       "      <td>4.10</td>\n",
       "      <td>BH</td>\n",
       "    </tr>\n",
       "    <tr>\n",
       "      <th>449</th>\n",
       "      <td>De-Kastri</td>\n",
       "      <td>51.47</td>\n",
       "      <td>140.78</td>\n",
       "      <td>-25.89</td>\n",
       "      <td>79</td>\n",
       "      <td>67</td>\n",
       "      <td>2.67</td>\n",
       "      <td>RU</td>\n",
       "    </tr>\n",
       "    <tr>\n",
       "      <th>19</th>\n",
       "      <td>Kapaa</td>\n",
       "      <td>22.08</td>\n",
       "      <td>-159.32</td>\n",
       "      <td>23.00</td>\n",
       "      <td>94</td>\n",
       "      <td>90</td>\n",
       "      <td>10.30</td>\n",
       "      <td>US</td>\n",
       "    </tr>\n",
       "    <tr>\n",
       "      <th>541</th>\n",
       "      <td>Unaí</td>\n",
       "      <td>-16.36</td>\n",
       "      <td>-46.91</td>\n",
       "      <td>26.77</td>\n",
       "      <td>73</td>\n",
       "      <td>40</td>\n",
       "      <td>1.16</td>\n",
       "      <td>BR</td>\n",
       "    </tr>\n",
       "    <tr>\n",
       "      <th>144</th>\n",
       "      <td>Nadym</td>\n",
       "      <td>65.53</td>\n",
       "      <td>72.52</td>\n",
       "      <td>-39.02</td>\n",
       "      <td>81</td>\n",
       "      <td>6</td>\n",
       "      <td>3.93</td>\n",
       "      <td>RU</td>\n",
       "    </tr>\n",
       "    <tr>\n",
       "      <th>304</th>\n",
       "      <td>Bushehr</td>\n",
       "      <td>28.97</td>\n",
       "      <td>50.84</td>\n",
       "      <td>13.00</td>\n",
       "      <td>71</td>\n",
       "      <td>0</td>\n",
       "      <td>4.10</td>\n",
       "      <td>IR</td>\n",
       "    </tr>\n",
       "    <tr>\n",
       "      <th>215</th>\n",
       "      <td>Deogarh</td>\n",
       "      <td>21.53</td>\n",
       "      <td>84.73</td>\n",
       "      <td>13.57</td>\n",
       "      <td>46</td>\n",
       "      <td>0</td>\n",
       "      <td>1.01</td>\n",
       "      <td>IN</td>\n",
       "    </tr>\n",
       "    <tr>\n",
       "      <th>260</th>\n",
       "      <td>Nishihara</td>\n",
       "      <td>26.18</td>\n",
       "      <td>127.76</td>\n",
       "      <td>18.89</td>\n",
       "      <td>72</td>\n",
       "      <td>20</td>\n",
       "      <td>4.10</td>\n",
       "      <td>JP</td>\n",
       "    </tr>\n",
       "    <tr>\n",
       "      <th>371</th>\n",
       "      <td>Nagorsk</td>\n",
       "      <td>59.32</td>\n",
       "      <td>50.81</td>\n",
       "      <td>-9.77</td>\n",
       "      <td>95</td>\n",
       "      <td>100</td>\n",
       "      <td>4.05</td>\n",
       "      <td>RU</td>\n",
       "    </tr>\n",
       "    <tr>\n",
       "      <th>360</th>\n",
       "      <td>Cootamundra</td>\n",
       "      <td>-34.65</td>\n",
       "      <td>148.03</td>\n",
       "      <td>18.33</td>\n",
       "      <td>77</td>\n",
       "      <td>0</td>\n",
       "      <td>1.79</td>\n",
       "      <td>AU</td>\n",
       "    </tr>\n",
       "    <tr>\n",
       "      <th>554</th>\n",
       "      <td>Port Shepstone</td>\n",
       "      <td>-30.74</td>\n",
       "      <td>30.45</td>\n",
       "      <td>23.68</td>\n",
       "      <td>92</td>\n",
       "      <td>54</td>\n",
       "      <td>4.49</td>\n",
       "      <td>ZA</td>\n",
       "    </tr>\n",
       "    <tr>\n",
       "      <th>459</th>\n",
       "      <td>Almaznyy</td>\n",
       "      <td>48.04</td>\n",
       "      <td>40.05</td>\n",
       "      <td>4.00</td>\n",
       "      <td>93</td>\n",
       "      <td>90</td>\n",
       "      <td>2.00</td>\n",
       "      <td>RU</td>\n",
       "    </tr>\n",
       "    <tr>\n",
       "      <th>413</th>\n",
       "      <td>Constitución</td>\n",
       "      <td>-35.33</td>\n",
       "      <td>-72.42</td>\n",
       "      <td>20.18</td>\n",
       "      <td>61</td>\n",
       "      <td>25</td>\n",
       "      <td>6.39</td>\n",
       "      <td>CL</td>\n",
       "    </tr>\n",
       "    <tr>\n",
       "      <th>532</th>\n",
       "      <td>Ancud</td>\n",
       "      <td>-41.87</td>\n",
       "      <td>-73.82</td>\n",
       "      <td>22.00</td>\n",
       "      <td>64</td>\n",
       "      <td>20</td>\n",
       "      <td>2.60</td>\n",
       "      <td>CL</td>\n",
       "    </tr>\n",
       "  </tbody>\n",
       "</table>\n",
       "</div>"
      ],
      "text/plain": [
       "               City  Latitude  Longitude  Max Temp  Humidity  Cloudiness  \\\n",
       "18       Tsarítsani     39.88      22.23     10.00        93          75   \n",
       "425          Manama     26.22      50.58     18.00        55           0   \n",
       "449       De-Kastri     51.47     140.78    -25.89        79          67   \n",
       "19            Kapaa     22.08    -159.32     23.00        94          90   \n",
       "541            Unaí    -16.36     -46.91     26.77        73          40   \n",
       "144           Nadym     65.53      72.52    -39.02        81           6   \n",
       "304         Bushehr     28.97      50.84     13.00        71           0   \n",
       "215         Deogarh     21.53      84.73     13.57        46           0   \n",
       "260       Nishihara     26.18     127.76     18.89        72          20   \n",
       "371         Nagorsk     59.32      50.81     -9.77        95         100   \n",
       "360     Cootamundra    -34.65     148.03     18.33        77           0   \n",
       "554  Port Shepstone    -30.74      30.45     23.68        92          54   \n",
       "459        Almaznyy     48.04      40.05      4.00        93          90   \n",
       "413    Constitución    -35.33     -72.42     20.18        61          25   \n",
       "532           Ancud    -41.87     -73.82     22.00        64          20   \n",
       "\n",
       "     Wind_Speed Country  \n",
       "18         1.01      GR  \n",
       "425        4.10      BH  \n",
       "449        2.67      RU  \n",
       "19        10.30      US  \n",
       "541        1.16      BR  \n",
       "144        3.93      RU  \n",
       "304        4.10      IR  \n",
       "215        1.01      IN  \n",
       "260        4.10      JP  \n",
       "371        4.05      RU  \n",
       "360        1.79      AU  \n",
       "554        4.49      ZA  \n",
       "459        2.00      RU  \n",
       "413        6.39      CL  \n",
       "532        2.60      CL  "
      ]
     },
     "execution_count": 11,
     "metadata": {},
     "output_type": "execute_result"
    }
   ],
   "source": [
    "data = 'Data/API_data.csv'\n",
    "\n",
    "df = pd.read_csv(data)\n",
    "\n",
    "df = df.dropna()\n",
    "\n",
    "for_map_locations = df[[\"Latitude\", \"Longitude\"]]\n",
    "\n",
    "humidity = df['Humidity'].tolist()\n",
    "\n",
    "print(len(locations))\n",
    "print(len(humidity))\n",
    "\n",
    "df.sample(15)\n"
   ]
  },
  {
   "cell_type": "markdown",
   "metadata": {},
   "source": [
    "\n",
    "### Humidity Heatmap\n",
    "* Configure gmaps.\n",
    "* Use the Lat and Lng as locations and Humidity as the weight.\n",
    "* Add Heatmap layer to map."
   ]
  },
  {
   "cell_type": "code",
   "execution_count": 12,
   "metadata": {},
   "outputs": [
    {
     "data": {
      "application/vnd.jupyter.widget-view+json": {
       "model_id": "41be1b18c2f4499f8b5cb29ffe3d5dd2",
       "version_major": 2,
       "version_minor": 0
      },
      "text/plain": [
       "Figure(layout=FigureLayout(height='420px'))"
      ]
     },
     "metadata": {},
     "output_type": "display_data"
    }
   ],
   "source": [
    "gmaps.configure(api_key=g_key)\n",
    "\n",
    "fig = gmaps.figure()\n",
    "\n",
    "heat_layer = gmaps.heatmap_layer(for_map_locations, weights=humidity, \n",
    "                                 dissipating=False, max_intensity=100,\n",
    "                                 point_radius = 1)\n",
    "\n",
    "fig.add_layer(heat_layer)\n",
    "\n",
    "fig"
   ]
  },
  {
   "cell_type": "code",
   "execution_count": null,
   "metadata": {},
   "outputs": [],
   "source": []
  },
  {
   "cell_type": "markdown",
   "metadata": {},
   "source": [
    "### Create new DataFrame fitting weather criteria\n",
    "* Narrow down the cities to fit weather conditions.\n",
    "* Drop any rows will null values."
   ]
  },
  {
   "cell_type": "code",
   "execution_count": 9,
   "metadata": {},
   "outputs": [
    {
     "data": {
      "text/html": [
       "<div>\n",
       "<style scoped>\n",
       "    .dataframe tbody tr th:only-of-type {\n",
       "        vertical-align: middle;\n",
       "    }\n",
       "\n",
       "    .dataframe tbody tr th {\n",
       "        vertical-align: top;\n",
       "    }\n",
       "\n",
       "    .dataframe thead th {\n",
       "        text-align: right;\n",
       "    }\n",
       "</style>\n",
       "<table border=\"1\" class=\"dataframe\">\n",
       "  <thead>\n",
       "    <tr style=\"text-align: right;\">\n",
       "      <th></th>\n",
       "      <th>City</th>\n",
       "      <th>Latitude</th>\n",
       "      <th>Longitude</th>\n",
       "      <th>Max Temp</th>\n",
       "      <th>Humidity</th>\n",
       "      <th>Cloudiness</th>\n",
       "      <th>Wind_Speed</th>\n",
       "      <th>Country</th>\n",
       "    </tr>\n",
       "  </thead>\n",
       "  <tbody>\n",
       "    <tr>\n",
       "      <th>128</th>\n",
       "      <td>General Roca</td>\n",
       "      <td>-39.03</td>\n",
       "      <td>-67.58</td>\n",
       "      <td>37.0</td>\n",
       "      <td>27</td>\n",
       "      <td>20</td>\n",
       "      <td>3.1</td>\n",
       "      <td>AR</td>\n",
       "    </tr>\n",
       "  </tbody>\n",
       "</table>\n",
       "</div>"
      ],
      "text/plain": [
       "             City  Latitude  Longitude  Max Temp  Humidity  Cloudiness  \\\n",
       "128  General Roca    -39.03     -67.58      37.0        27          20   \n",
       "\n",
       "     Wind_Speed Country  \n",
       "128         3.1      AR  "
      ]
     },
     "execution_count": 9,
     "metadata": {},
     "output_type": "execute_result"
    }
   ],
   "source": [
    "criteria_df = df.loc[((df['Max Temp'] > 36) & (df['Humidity'] < 50) & (df['Cloudiness'] < 50) & (df['Wind_Speed'] < 4))]\n",
    "criteria_df\n",
    "\n"
   ]
  },
  {
   "cell_type": "markdown",
   "metadata": {},
   "source": [
    "### Hotel Map\n",
    "* Store into variable named `hotel_df`.\n",
    "* Add a \"Hotel Name\" column to the DataFrame.\n",
    "* Set parameters to search for hotels with 5000 meters.\n",
    "* Hit the Google Places API for each city's coordinates.\n",
    "* Store the first Hotel result into the DataFrame.\n",
    "* Plot markers on top of the heatmap."
   ]
  },
  {
   "cell_type": "code",
   "execution_count": 13,
   "metadata": {},
   "outputs": [
    {
     "data": {
      "text/plain": [
       "['-39.03, -67.58']"
      ]
     },
     "execution_count": 13,
     "metadata": {},
     "output_type": "execute_result"
    }
   ],
   "source": [
    "criteria_df['Hotel Name'] = \"\"\n",
    "criteria_df\n",
    "\n",
    "locations_df = criteria_df[[\"Latitude\", \"Longitude\"]].astype(str)\n",
    "\n",
    "locations_df[\"LatLng\"] = criteria_df[\"Latitude\"].astype(str) + \", \" + criteria_df[\"Longitude\"].astype(str)\n",
    "locations_df\n",
    "\n",
    "locations_list = locations_df['LatLng'].tolist()\n",
    "locations_list\n",
    "\n",
    "base_url = \"https://maps.googleapis.com/maps/api/place/nearbysearch/json\"\n",
    "target_radius = 5000\n",
    "\n",
    "locations_list"
   ]
  },
  {
   "cell_type": "code",
   "execution_count": 14,
   "metadata": {},
   "outputs": [
    {
     "name": "stdout",
     "output_type": "stream",
     "text": [
      "{\n",
      "    \"html_attributions\": [],\n",
      "    \"results\": [],\n",
      "    \"status\": \"INVALID_REQUEST\"\n",
      "}\n"
     ]
    }
   ],
   "source": [
    "for location in locations_list:\n",
    "    \n",
    "    params = {\n",
    "    \"location\": location,  \n",
    "    \"rankby\": \"distance\",\n",
    "    \"type\": \"hotel\",\n",
    "    \"radius\" : target_radius,    \n",
    "    \"key\": g_key,\n",
    "}\n",
    "    \n",
    "    response = requests.get(base_url, params=params).json()\n",
    "    \n",
    "print(json.dumps(response, indent=4, sort_keys=True))\n"
   ]
  },
  {
   "cell_type": "code",
   "execution_count": null,
   "metadata": {},
   "outputs": [],
   "source": []
  },
  {
   "cell_type": "code",
   "execution_count": null,
   "metadata": {},
   "outputs": [],
   "source": []
  },
  {
   "cell_type": "code",
   "execution_count": null,
   "metadata": {},
   "outputs": [],
   "source": [
    "# NOTE: Do not change any of the code in this cell\n",
    "\n",
    "# Using the template add the hotel marks to the heatmap\n",
    "info_box_template = \"\"\"\n",
    "<dl>\n",
    "<dt>Name</dt><dd>{Hotel Name}</dd>\n",
    "<dt>City</dt><dd>{City}</dd>\n",
    "<dt>Country</dt><dd>{Country}</dd>\n",
    "</dl>\n",
    "\"\"\"\n",
    "# Store the DataFrame Row\n",
    "# NOTE: be sure to update with your DataFrame name\n",
    "hotel_info = [info_box_template.format(**row) for index, row in hotel_df.iterrows()]\n",
    "locations = hotel_df[[\"Lat\", \"Lng\"]]"
   ]
  },
  {
   "cell_type": "code",
   "execution_count": null,
   "metadata": {},
   "outputs": [],
   "source": [
    "# Add marker layer ontop of heat map\n",
    "\n",
    "\n",
    "# Display figure\n"
   ]
  },
  {
   "cell_type": "code",
   "execution_count": null,
   "metadata": {},
   "outputs": [],
   "source": []
  }
 ],
 "metadata": {
  "kernelspec": {
   "display_name": "Python 3",
   "language": "python",
   "name": "python3"
  },
  "language_info": {
   "codemirror_mode": {
    "name": "ipython",
    "version": 3
   },
   "file_extension": ".py",
   "mimetype": "text/x-python",
   "name": "python",
   "nbconvert_exporter": "python",
   "pygments_lexer": "ipython3",
   "version": "3.8.3"
  },
  "latex_envs": {
   "LaTeX_envs_menu_present": true,
   "autoclose": false,
   "autocomplete": true,
   "bibliofile": "biblio.bib",
   "cite_by": "apalike",
   "current_citInitial": 1,
   "eqLabelWithNumbers": true,
   "eqNumInitial": 1,
   "hotkeys": {
    "equation": "Ctrl-E",
    "itemize": "Ctrl-I"
   },
   "labels_anchors": false,
   "latex_user_defs": false,
   "report_style_numbering": false,
   "user_envs_cfg": false
  }
 },
 "nbformat": 4,
 "nbformat_minor": 4
}
